{
 "cells": [
  {
   "cell_type": "markdown",
   "metadata": {},
   "source": [
    "# Visualise correlation wavefield\n",
    "\n",
    "This little notebook is intended to provide an easy visualisation of the noise correlation wavefield, produced by the 'Correlation_Analysis', the output of which it requires as input."
   ]
  },
  {
   "cell_type": "markdown",
   "metadata": {},
   "source": [
    "# 0. Python packages"
   ]
  },
  {
   "cell_type": "code",
   "execution_count": null,
   "metadata": {},
   "outputs": [],
   "source": [
    "import matplotlib.pyplot as plt\n",
    "from pandas import read_csv\n",
    "import numpy as np\n",
    "import mplleaflet\n",
    "from geographiclib.geodesic import Geodesic\n",
    "geod = Geodesic.WGS84"
   ]
  },
  {
   "cell_type": "markdown",
   "metadata": {},
   "source": [
    "# 1. Input\n",
    "\n",
    "The main required input are the raw and the f-k filtered correlation wavefields (forward and reverse). The latter are the output of the 'Correlation_Analysis' notebook."
   ]
  },
  {
   "cell_type": "code",
   "execution_count": null,
   "metadata": {},
   "outputs": [],
   "source": [
    "# Read correlation wavefields.\n",
    "cct=np.load('cct_raw.npy')\n",
    "cct_fwd=np.load('cct_forward.npy')\n",
    "cct_rev=np.load('cct_reverse.npy')\n",
    "\n",
    "# Number of channels to use.\n",
    "nc_max=100\n",
    "\n",
    "# Read in the GPS locations from file\n",
    "section_location_all = read_csv('/Users/andreas/Codes/BernCorrelations/section_location_all.csv')"
   ]
  },
  {
   "cell_type": "markdown",
   "metadata": {},
   "source": [
    "# 2. Initialisation\n",
    "\n",
    "Truncate (if needed) the correlation wavefield (number of channels) and apply normalisations for better plotting."
   ]
  },
  {
   "cell_type": "code",
   "execution_count": null,
   "metadata": {},
   "outputs": [],
   "source": [
    "# Restrict the number of channels to use.\n",
    "cct=cct[:nc_max,:]\n",
    "cct_fwd=cct_fwd[:nc_max,:]\n",
    "cct_rev=cct_rev[:nc_max,:]\n",
    "\n",
    "# Number of channels and time steps.\n",
    "nc=np.shape(cct)[0]\n",
    "nt=np.shape(cct)[1]\n",
    "\n",
    "# Modify correlation wavefields for plotting (absolute value and normalisation).\n",
    "cct=cct/np.max(np.abs(cct))\n",
    "n=np.max([np.abs(cct_fwd),np.abs(cct_rev)])\n",
    "cct_fwd=np.abs(cct_fwd)/n\n",
    "cct_rev=np.abs(cct_rev)/n"
   ]
  },
  {
   "cell_type": "markdown",
   "metadata": {},
   "source": [
    "# 3. Channel locations"
   ]
  },
  {
   "cell_type": "code",
   "execution_count": null,
   "metadata": {},
   "outputs": [],
   "source": [
    "# Plot map figure with Bern coordinates for interpolated channels (where possible to clearly determine)\n",
    "%matplotlib inline\n",
    "plt.figure(figsize=(10,10))\n",
    "plt.scatter(section_location_all['longitude'],section_location_all['latitude'],s=10,c='b')\n",
    "mplleaflet.display()"
   ]
  },
  {
   "cell_type": "code",
   "execution_count": null,
   "metadata": {},
   "outputs": [],
   "source": [
    "# Put channel locations into a dictionary for easier access. Contains channel number; latitude; longitude\n",
    "sec_loc_dict = dict()\n",
    "for i in section_location_all.iterrows(): sec_loc_dict.update({f\"{int(i[1][0])}\":[i[1][1],i[1][2]]})"
   ]
  },
  {
   "cell_type": "code",
   "execution_count": null,
   "metadata": {},
   "outputs": [],
   "source": [
    "# Number of starting channel.\n",
    "channel_start=950 \n",
    "\n",
    "# Fill arrays of latitudes and longitudes of channels.\n",
    "lats=np.zeros(nc)\n",
    "lons=np.zeros(nc)\n",
    "\n",
    "i=0\n",
    "k=0\n",
    "while k < nc:\n",
    "    if f'{channel_start+i}' in sec_loc_dict.keys():\n",
    "        lats[k]=sec_loc_dict[f'{channel_start+i}'][0]\n",
    "        lons[k]=sec_loc_dict[f'{channel_start+i}'][1]\n",
    "        k+=1\n",
    "    i+=1"
   ]
  },
  {
   "cell_type": "markdown",
   "metadata": {},
   "source": [
    "# 4. Plot wavefield\n",
    "\n",
    "We plot the wavefield for a selected time step."
   ]
  },
  {
   "cell_type": "code",
   "execution_count": null,
   "metadata": {},
   "outputs": [],
   "source": [
    "# Time step.\n",
    "it=20"
   ]
  },
  {
   "cell_type": "markdown",
   "metadata": {},
   "source": [
    "## 4.1. Raw correlation wavefield"
   ]
  },
  {
   "cell_type": "code",
   "execution_count": null,
   "metadata": {
    "scrolled": false
   },
   "outputs": [],
   "source": [
    "plt.figure(figsize=(10,10))\n",
    "\n",
    "for i in range(nc):\n",
    "    if cct[i,it]<0.0:\n",
    "        r=1.0\n",
    "        g=(1.0+cct[i,it])**0.5\n",
    "        b=(1.0+cct[i,it])**0.5\n",
    "    else:\n",
    "        r=1.0-cct[i,it]\n",
    "        g=1.0-cct[i,it]\n",
    "        b=1.0\n",
    "    color=[r,g,b]\n",
    "    plt.scatter(lons[i],lats[i],s=200,color=color)\n",
    "\n",
    "mplleaflet.display()"
   ]
  },
  {
   "cell_type": "markdown",
   "metadata": {},
   "source": [
    "## 4.2. Forward and reverse correlation wavefield"
   ]
  },
  {
   "cell_type": "code",
   "execution_count": null,
   "metadata": {},
   "outputs": [],
   "source": [
    "# Offsets between forward abd reverse part.\n",
    "dlat=-4.0*(lats[1]-lats[0])\n",
    "dlon=2.0*(lons[1]-lons[0])\n",
    "\n",
    "# Normalisation.\n",
    "n=np.max([cct_fwd[:,it],cct_rev[:,it]])\n",
    "\n",
    "# Plot wavefields.\n",
    "plt.figure(figsize=(10,10))\n",
    "\n",
    "# Forward propagating part.\n",
    "for i in range(nc):\n",
    "    r=(1.0-cct_fwd[i,it]/n)**0.5\n",
    "    g=(1.0-cct_fwd[i,it]/n)**0.5\n",
    "    b=1.0\n",
    "    color=[r,g,b]\n",
    "    plt.scatter(lons[i],lats[i],s=150,color=color)\n",
    "\n",
    "# Reverse propagating part.\n",
    "for i in range(nc):\n",
    "    r=1.0\n",
    "    g=(1.0-cct_rev[i,it]/n)**0.5\n",
    "    b=(1.0-cct_rev[i,it]/n)**0.5\n",
    "    color=[r,g,b]\n",
    "    plt.scatter(lons[i]+dlon,lats[i]+dlat,s=150,color=color)\n",
    "    \n",
    "filename='snapshot_'+str(it)+'.html'\n",
    "mplleaflet.display()"
   ]
  }
 ],
 "metadata": {
  "kernelspec": {
   "display_name": "Python 3",
   "language": "python",
   "name": "python3"
  },
  "language_info": {
   "codemirror_mode": {
    "name": "ipython",
    "version": 3
   },
   "file_extension": ".py",
   "mimetype": "text/x-python",
   "name": "python",
   "nbconvert_exporter": "python",
   "pygments_lexer": "ipython3",
   "version": "3.6.10"
  }
 },
 "nbformat": 4,
 "nbformat_minor": 5
}
