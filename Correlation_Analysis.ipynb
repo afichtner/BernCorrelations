{
 "cells": [
  {
   "cell_type": "markdown",
   "metadata": {},
   "source": [
    "# 0. Correlation Analysis\n",
    "\n",
    "This notebook performs an $f$-$k$ analysis and filtering, as well as phase velocity dispersion estimation."
   ]
  },
  {
   "cell_type": "markdown",
   "metadata": {},
   "source": [
    "# 0. Packages and setup\n",
    "\n",
    "Import the necessary Python packages and add a few lines to embellish figures."
   ]
  },
  {
   "cell_type": "code",
   "execution_count": null,
   "metadata": {},
   "outputs": [],
   "source": [
    "import obspy\n",
    "import numpy as np\n",
    "import matplotlib.pyplot as plt\n",
    "\n",
    "plt.rcParams[\"font.family\"] = \"Times\"\n",
    "plt.rcParams.update({'font.size': 50})\n",
    "plt.rcParams['xtick.major.pad']='12'\n",
    "plt.rcParams['ytick.major.pad']='12'"
   ]
  },
  {
   "cell_type": "markdown",
   "metadata": {},
   "source": [
    "# 1. General input\n",
    "\n",
    "Basic input, including the file to be read and the average spacing between channels."
   ]
  },
  {
   "cell_type": "code",
   "execution_count": null,
   "metadata": {},
   "outputs": [],
   "source": [
    "# Input file.\n",
    "input_file='/Users/andreas/Desktop/Andreas_npy_files/bern_5_50Hz_corr_stacked_1s.npy'\n",
    "# Scale for plotting.\n",
    "scale=2\n",
    "# Receiver spacing.\n",
    "dx=1.9411132335662842"
   ]
  },
  {
   "cell_type": "markdown",
   "metadata": {},
   "source": [
    "# 2. Data reading and plotting\n",
    "\n",
    "We first read the correlation data and plot them."
   ]
  },
  {
   "cell_type": "code",
   "execution_count": null,
   "metadata": {},
   "outputs": [],
   "source": [
    "cct=np.load(input_file)"
   ]
  },
  {
   "cell_type": "markdown",
   "metadata": {},
   "source": [
    "- (Average) distance between channels = 1.9411132335662842 m\n",
    "- Sampling rate = 200 Hz\n",
    "- 304 channels (950 - 1306) (number gap due to cutting out chunks)\n",
    "- 1 hour, n_stack = 12, 002115 - 012115 UTC (01:21:15 - 02:21:15 local time)\n",
    "- Filtered 5 - 50 Hz"
   ]
  },
  {
   "cell_type": "code",
   "execution_count": null,
   "metadata": {},
   "outputs": [],
   "source": [
    "print(cct.shape)\n",
    "nt=cct.shape[1]\n",
    "nx=cct.shape[0]-1"
   ]
  },
  {
   "cell_type": "code",
   "execution_count": null,
   "metadata": {},
   "outputs": [],
   "source": [
    "plt.figure(figsize=(20,20))\n",
    "\n",
    "for i,j in enumerate(cct):\n",
    "    \n",
    "    if i % 100 == 0:\n",
    "        print(f\"At {i} of {np.shape(cct)[0]}\")\n",
    "    \n",
    "    if i == 0:\n",
    "        t=j\n",
    "        dt=t[1]-t[0]\n",
    "    else:\n",
    "        data = j\n",
    "        \n",
    "        data /= np.max(np.abs(data))        \n",
    "        dist_var = (i-1)*dx\n",
    "\n",
    "        plt.plot(t,(scale*data)+dist_var,'k-', alpha = 0.4)\n",
    "        plt.fill_between(t,(scale*data)+dist_var,y2=np.ones(np.shape(t))*dist_var,where=(data+dist_var>=dist_var), interpolate=True,fc='k',alpha=0.8)\n",
    "\n",
    "plt.xlabel('Lag [s]')\n",
    "plt.ylabel('Distance [m]')\n",
    "plt.title('cross correlations',pad=20)\n",
    "plt.grid()\n",
    "plt.show()"
   ]
  },
  {
   "cell_type": "markdown",
   "metadata": {},
   "source": [
    "# 3. Frequency-wavenumber domain\n",
    "\n",
    "Before any $f$-$k$ filtering and dispersion analysis, we transform the time-domain data into the frequency-wavenumber domain."
   ]
  },
  {
   "cell_type": "markdown",
   "metadata": {},
   "source": [
    "## 3.1. Extract causal or acausal parts\n",
    "\n",
    "We choose either the causal or the acausal part of the correlations for our analysis."
   ]
  },
  {
   "cell_type": "code",
   "execution_count": null,
   "metadata": {},
   "outputs": [],
   "source": [
    "# Pick causal or acausal part.\n",
    "causal=False"
   ]
  },
  {
   "cell_type": "code",
   "execution_count": null,
   "metadata": {},
   "outputs": [],
   "source": [
    "if causal:\n",
    "    cct_cropped=cct[1:,int((nt-1)/2):nt]\n",
    "else:\n",
    "    cct_cropped=cct[1:,int((nt-1)/2)+1:0:-1]\n",
    "    \n",
    "t_cropped=np.linspace(0.0,(nt-1)*dt/2.0,int((nt-1)/2)+1)"
   ]
  },
  {
   "cell_type": "code",
   "execution_count": null,
   "metadata": {},
   "outputs": [],
   "source": [
    "plt.figure(figsize=(10,20))\n",
    "\n",
    "for i in range(nx):\n",
    "    \n",
    "    data=cct_cropped[i,:]\n",
    "    data/=np.max(np.abs(data))        \n",
    "    dist_var=(i-1)*dx\n",
    "    \n",
    "    plt.plot(t_cropped,(scale*data)+dist_var,'k-', alpha = 0.4) \n",
    "    plt.fill_between(t_cropped,(scale*data)+dist_var,y2=np.ones(np.shape(t_cropped))*dist_var,where=(data+dist_var>=dist_var), interpolate=True,fc='k',alpha=0.8)\n",
    "\n",
    "plt.xlabel('time [s]')\n",
    "plt.ylabel('distance [m]')\n",
    "plt.grid()\n",
    "plt.show()"
   ]
  },
  {
   "cell_type": "markdown",
   "metadata": {},
   "source": [
    "## 3.2. Compute and plot frequency-domain representation\n",
    "\n",
    "We apply a 2D Fast Fourier Transform and the roll the indices in order to bring it into the physical frequency domain."
   ]
  },
  {
   "cell_type": "code",
   "execution_count": null,
   "metadata": {},
   "outputs": [],
   "source": [
    "# Reduced number of time samples.\n",
    "nt_cropped=len(t_cropped)\n",
    "# 2D Fourier transform.\n",
    "ccf=np.fft.fft2(cct_cropped)\n",
    "# Roll in order to plot in physical f-k domain.\n",
    "ccfr=np.roll(np.roll(ccf,int((nt_cropped-1)/2),axis=1),int((nx-1)/2),axis=0)\n",
    "# Make frequency and wavenumber axes.\n",
    "f=np.linspace(-0.5/dt,0.5/dt,nt_cropped)\n",
    "k=np.linspace(-np.pi/dx,np.pi/dx,nx)\n",
    "ff,kk=np.meshgrid(f,k)"
   ]
  },
  {
   "cell_type": "code",
   "execution_count": null,
   "metadata": {
    "scrolled": false
   },
   "outputs": [],
   "source": [
    "# Plot discrete 2D Fourier transform\n",
    "plt.subplots(1, figsize=(25,25))\n",
    "plt.pcolor(np.abs(ccf),cmap='Greys')\n",
    "plt.xlabel('frequency index')\n",
    "plt.ylabel('space index')\n",
    "plt.title('2D Fourier transform',pad=25)\n",
    "plt.grid()\n",
    "plt.show()\n",
    "\n",
    "# Plot f-k domain amplitude spectrum.\n",
    "plt.subplots(1, figsize=(25,25))\n",
    "plt.pcolor(ff,kk,np.abs(ccfr),cmap='Greys')\n",
    "plt.xlim(-50.0,50.0)\n",
    "plt.ylim(-0.5,0.5)\n",
    "plt.xlabel('f [Hz]')\n",
    "plt.ylabel('k [1/m]')\n",
    "plt.title('f-k power spectrum',pad=25)\n",
    "plt.grid()\n",
    "plt.show()"
   ]
  },
  {
   "cell_type": "markdown",
   "metadata": {},
   "source": [
    "# 4. $f$-$k$ filtering\n",
    "\n",
    "For $f$-$k$ filtering we define a mask that cuts out part of the $f$-$k$ spectrum."
   ]
  },
  {
   "cell_type": "markdown",
   "metadata": {},
   "source": [
    "## 4.1. Input\n",
    "\n",
    "Set parameters that define the frequency-wavenumber mask."
   ]
  },
  {
   "cell_type": "code",
   "execution_count": null,
   "metadata": {},
   "outputs": [],
   "source": [
    "# Minimum and maximum absolute phase velocities [m/s].\n",
    "c_min=300.0\n",
    "c_max=2000.0\n",
    "# Minimum and maximum frequencies [Hz].\n",
    "freqmin=0.0\n",
    "freqmax=50.0"
   ]
  },
  {
   "cell_type": "markdown",
   "metadata": {},
   "source": [
    "## 4.2. $f$-$k$ mask\n",
    "\n",
    "Build the $f$-$k$ mask for both the forward- and backward-propagating (reflected) part of the correlation wavefield."
   ]
  },
  {
   "cell_type": "code",
   "execution_count": null,
   "metadata": {},
   "outputs": [],
   "source": [
    "# Mask for forward-propagating wavefield.\n",
    "mask_fwd=np.ones(np.shape(ccfr),dtype='complex64')\n",
    "# Mask for backward-propagating (reflected) wavefield.\n",
    "mask_rev=np.ones(np.shape(ccfr),dtype='complex64')\n",
    "\n",
    "# Apply the mask.\n",
    "for i in range(nx):\n",
    "    for j in range(nt_cropped):\n",
    "        \n",
    "        # Compute phase velocity.\n",
    "        if np.abs(k[i]):\n",
    "            c=2.0*np.pi*f[j]/k[i]\n",
    "        else:\n",
    "            c=1.0e9\n",
    "            \n",
    "        # Maximum and minimum absolute phase velocities.\n",
    "        if (np.abs(c)>c_max) or (np.abs(c)<c_min):\n",
    "            mask_fwd[i,j]=0.0\n",
    "            mask_rev[i,j]=0.0\n",
    "        # Forward or backward propagation.\n",
    "        if c>0.0: mask_fwd[i,j]=0.0\n",
    "        if c<0.0: mask_rev[i,j]=0.0\n",
    "        # Bandpass filter.\n",
    "        if np.abs(f[j])>freqmax: \n",
    "            mask_fwd[i,j]=0.0\n",
    "            mask_rev[i,j]=0.0\n",
    "        if np.abs(f[j])<freqmin: \n",
    "            mask_fwd[i,j]=0.0\n",
    "            mask_rev[i,j]=0.0\n",
    "            \n",
    "            \n",
    "# Smooth the mask.\n",
    "dummy_fwd=mask_fwd.copy()\n",
    "mask_fwd_smooth=mask_fwd.copy()\n",
    "dummy_rev=mask_rev.copy()\n",
    "mask_rev_smooth=mask_rev.copy()\n",
    "\n",
    "for l in range(4):\n",
    "    for i in np.arange(1,nx-1):\n",
    "        for j in np.arange(1,nt_cropped-1):\n",
    "            mask_rev_smooth[i,j]=(dummy_rev[i,j]+dummy_rev[i-1,j]+dummy_rev[i+1,j]+dummy_rev[i,j-1]+dummy_rev[i,j+1])/5.0\n",
    "            mask_fwd_smooth[i,j]=(dummy_fwd[i,j]+dummy_fwd[i-1,j]+dummy_fwd[i+1,j]+dummy_fwd[i,j-1]+dummy_fwd[i,j+1])/5.0\n",
    "    dummy_rev=mask_rev_smooth\n",
    "    dummy_fwd=mask_fwd_smooth"
   ]
  },
  {
   "cell_type": "code",
   "execution_count": null,
   "metadata": {
    "scrolled": false
   },
   "outputs": [],
   "source": [
    "# Plot f-k domain masks.\n",
    "\n",
    "plt.subplots(1, figsize=(25,25))\n",
    "plt.pcolor(ff,kk,np.abs(mask_fwd_smooth),cmap='Greys')\n",
    "plt.xlim(-1.1*freqmax,1.1*freqmax)\n",
    "plt.ylim(-2.2*np.pi*freqmax/c_min,2.2*np.pi*freqmax/c_min)\n",
    "plt.xlabel('f [Hz]')\n",
    "plt.ylabel('k [1/m]')\n",
    "plt.title('f-k mask (forward)',pad=25)\n",
    "plt.colorbar()\n",
    "plt.show()\n",
    "\n",
    "plt.subplots(1, figsize=(25,25))\n",
    "plt.pcolor(ff,kk,np.abs(mask_rev_smooth),cmap='Greys')\n",
    "plt.xlim(-1.1*freqmax,1.1*freqmax)\n",
    "plt.ylim(-2.2*np.pi*freqmax/c_min,2.2*np.pi*freqmax/c_min)\n",
    "plt.xlabel('f [Hz]')\n",
    "plt.ylabel('k [1/m]')\n",
    "plt.title('f-k mask (reverse)',pad=25)\n",
    "plt.colorbar()\n",
    "plt.show()"
   ]
  },
  {
   "cell_type": "code",
   "execution_count": null,
   "metadata": {},
   "outputs": [],
   "source": [
    "# Apply the f-k domain filter.\n",
    "ccfr_fwd_filtered=ccfr*mask_fwd_smooth\n",
    "ccfr_rev_filtered=ccfr*mask_rev_smooth"
   ]
  },
  {
   "cell_type": "markdown",
   "metadata": {},
   "source": [
    "## 4.3. Return to the time domain\n",
    "\n",
    "After application of the mask (filter) we roll the arrays back and then apply the 2D inverse transform."
   ]
  },
  {
   "cell_type": "code",
   "execution_count": null,
   "metadata": {
    "scrolled": false
   },
   "outputs": [],
   "source": [
    "# Roll back.\n",
    "ccf_fwd_filtered=np.roll(np.roll(ccfr_fwd_filtered,-int((nt_cropped-1)/2),axis=1),-int((nx-1)/2),axis=0)\n",
    "ccf_rev_filtered=np.roll(np.roll(ccfr_rev_filtered,-int((nt_cropped-1)/2),axis=1),-int((nx-1)/2),axis=0)\n",
    "\n",
    "# Plot to check.\n",
    "#plt.subplots(1, figsize=(25,25))\n",
    "#plt.pcolor(np.abs(ccf_fwd_filtered),cmap='Greys')\n",
    "#plt.xlabel('frequency index')\n",
    "#plt.ylabel('space index')\n",
    "#plt.title('2D Fourier transform, filtered',pad=25)\n",
    "#plt.show()\n",
    "\n",
    "# Inverse 2D Fourier transform.\n",
    "cct_fwd_filtered=np.real(np.fft.ifft2(ccf_fwd_filtered))\n",
    "cct_rev_filtered=np.real(np.fft.ifft2(ccf_rev_filtered))"
   ]
  },
  {
   "cell_type": "code",
   "execution_count": null,
   "metadata": {},
   "outputs": [],
   "source": [
    "# Plotting options.\n",
    "plot_forward=True\n",
    "plot_reverse=True\n",
    "\n",
    "# Plot filtered version.\n",
    "plt.figure(figsize=(10,20))\n",
    "\n",
    "for i in range(nx):\n",
    "    \n",
    "    dist_var=(i-1)*dx\n",
    "    \n",
    "    if plot_forward:\n",
    "        data_fwd=cct_fwd_filtered[i,:]\n",
    "        data_fwd/=np.max(np.abs(cct_cropped[i,:]))  \n",
    "        plt.plot(t_cropped,(scale*data_fwd)+dist_var,'k-', alpha = 0.4) \n",
    "        plt.fill_between(t_cropped,(scale*data_fwd)+dist_var,y2=np.ones(np.shape(t_cropped))*dist_var,where=(data_fwd+dist_var>=dist_var), interpolate=True,fc='b',alpha=0.8)\n",
    "        \n",
    "    if plot_reverse:\n",
    "        data_rev=cct_rev_filtered[i,:]\n",
    "        data_rev/=np.max(np.abs(cct_cropped[i,:]))   \n",
    "        plt.plot(t_cropped,(scale*data_rev)+dist_var,'k-', alpha = 0.4) \n",
    "        plt.fill_between(t_cropped,(scale*data_rev)+dist_var,y2=np.ones(np.shape(t_cropped))*dist_var,where=(data_rev+dist_var>=dist_var), interpolate=True,fc='r',alpha=0.8)\n",
    "\n",
    "plt.xlabel(\"Lag [s]\")\n",
    "plt.ylabel(\"Distance [m]\")\n",
    "plt.grid()\n",
    "plt.show()"
   ]
  },
  {
   "cell_type": "markdown",
   "metadata": {},
   "source": [
    "# 5. Phase velocity dispersion measurements\n",
    "\n",
    "We estimate phase velocity dispersion by picking the maximum of the $k$-dependent spectrum."
   ]
  },
  {
   "cell_type": "markdown",
   "metadata": {},
   "source": [
    "## 5.1. Input\n",
    "\n",
    "Choose the frequency band for the dispersion estimation, and the degree of spectral smoothing."
   ]
  },
  {
   "cell_type": "code",
   "execution_count": null,
   "metadata": {},
   "outputs": [],
   "source": [
    "# Minimum and maximum frequencies for dispersion measurements [Hz].\n",
    "fd_min=5.0\n",
    "fd_max=50.0\n",
    "# Number of neighbourhood smoothing iterations.\n",
    "n_smooth=2"
   ]
  },
  {
   "cell_type": "code",
   "execution_count": null,
   "metadata": {
    "scrolled": false
   },
   "outputs": [],
   "source": [
    "# Plot f-k domain amplitude spectrum.\n",
    "\n",
    "plt.subplots(1, figsize=(25,25))\n",
    "plt.pcolor(ff,kk,np.abs(ccfr_fwd_filtered),cmap='Greys')\n",
    "plt.xlim(-1.1*freqmax,1.1*freqmax)\n",
    "plt.ylim(-2.2*np.pi*freqmax/c_min,2.2*np.pi*freqmax/c_min)\n",
    "plt.xlabel('f [Hz]')\n",
    "plt.ylabel('k [1/m]')\n",
    "plt.title('f-k power spectrum, filtered, forward',pad=25)\n",
    "plt.grid()\n",
    "plt.show()\n",
    "\n",
    "plt.subplots(1, figsize=(25,25))\n",
    "plt.pcolor(ff,kk,np.abs(ccfr_rev_filtered),cmap='Greys')\n",
    "plt.xlim(-1.1*freqmax,1.1*freqmax)\n",
    "plt.ylim(-2.2*np.pi*freqmax/c_min,2.2*np.pi*freqmax/c_min)\n",
    "plt.xlabel('f [Hz]')\n",
    "plt.ylabel('k [1/m]')\n",
    "plt.title('f-k power spectrum, filtered, reverse',pad=25)\n",
    "plt.grid()\n",
    "plt.show()"
   ]
  },
  {
   "cell_type": "code",
   "execution_count": null,
   "metadata": {},
   "outputs": [],
   "source": [
    "# Find start and end indices of frequency band.\n",
    "idx_min=np.where(np.min(np.abs(f-fd_min))==np.abs(f-fd_min))[0][0]\n",
    "idx_max=np.where(np.min(np.abs(f-fd_max))==np.abs(f-fd_max))[0][0]"
   ]
  },
  {
   "cell_type": "code",
   "execution_count": null,
   "metadata": {},
   "outputs": [],
   "source": [
    "# Phase velocities of the froward and reverse parts.\n",
    "c_fwd=np.zeros(nt_cropped)\n",
    "c_rev=np.zeros(nt_cropped)\n",
    "\n",
    "# March through frequency indices.\n",
    "for idx in np.arange(idx_min,idx_max+1):\n",
    "    \n",
    "    # Make a smoother version of the k-dependent spectrum.\n",
    "    amp_fwd=np.abs(ccfr_fwd_filtered[:,idx])\n",
    "    amp_rev=np.abs(ccfr_rev_filtered[:,idx])\n",
    "    for i in range(n_smooth): \n",
    "        amp_fwd[1:nt_cropped-1]=(2.0*amp_fwd[1:nt_cropped-1]+amp_fwd[0:nt_cropped-2]+amp_fwd[2:nt_cropped])/4.0\n",
    "        amp_rev[1:nt_cropped-1]=(2.0*amp_rev[1:nt_cropped-1]+amp_rev[0:nt_cropped-2]+amp_rev[2:nt_cropped])/4.0\n",
    "    \n",
    "    # Compute phase velocity by picking the maximum.\n",
    "    j_fwd=np.argmax(amp_fwd) \n",
    "    j_rev=np.argmax(amp_rev) \n",
    "    c_fwd[idx]=np.abs(2.0*np.pi*f[idx]/k[j_fwd])\n",
    "    c_rev[idx]=np.abs(2.0*np.pi*f[idx]/k[j_rev])"
   ]
  },
  {
   "cell_type": "code",
   "execution_count": null,
   "metadata": {},
   "outputs": [],
   "source": [
    "plt.subplots(1, figsize=(25,15))\n",
    "\n",
    "plt.plot(f,c_fwd,'--b',linewidth=2)\n",
    "plt.plot(f,c_rev,'--r',linewidth=2)\n",
    "plt.plot(f,0.5*(c_rev+c_fwd),'--k',linewidth=6)\n",
    "plt.plot([f[idx_min],f[idx_max]],[c_max,c_max],'--k',linewidth=2)\n",
    "plt.plot([f[idx_min],f[idx_max]],[c_min,c_min],'--k',linewidth=2)\n",
    "\n",
    "plt.xlim([f[idx_min],f[idx_max]])\n",
    "plt.ylim([c_min-50.0,c_max+50.0])\n",
    "plt.xlabel('frequency [Hz]',labelpad=15)\n",
    "plt.ylabel('phase velocity [m/s]',labelpad=15)\n",
    "plt.show()"
   ]
  }
 ],
 "metadata": {
  "kernelspec": {
   "display_name": "Python 3",
   "language": "python",
   "name": "python3"
  },
  "language_info": {
   "codemirror_mode": {
    "name": "ipython",
    "version": 3
   },
   "file_extension": ".py",
   "mimetype": "text/x-python",
   "name": "python",
   "nbconvert_exporter": "python",
   "pygments_lexer": "ipython3",
   "version": "3.6.10"
  }
 },
 "nbformat": 4,
 "nbformat_minor": 5
}
